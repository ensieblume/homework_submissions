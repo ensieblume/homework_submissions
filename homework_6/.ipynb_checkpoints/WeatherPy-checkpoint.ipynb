{
 "cells": [
  {
   "cell_type": "code",
   "execution_count": 87,
   "metadata": {
    "scrolled": true
   },
   "outputs": [],
   "source": [
    "# Dependencies and Setup\n",
    "import matplotlib.pyplot as plt\n",
    "import pandas as pd\n",
    "import numpy as np\n",
    "import re\n",
    "import requests\n",
    "import time\n",
    "\n",
    "# Import API key\n",
    "import all_api_keys\n",
    "\n",
    "# Incorporated citipy to determine city based on latitude and longitude\n",
    "from citipy import citipy\n",
    "from pprint import pprint\n",
    "\n",
    "# Output File (CSV)\n",
    "output_data_file = \"output_data/cities.csv\"\n",
    "\n",
    "# Range of latitudes and longitudes\n",
    "lat_range = (-90, 90)\n",
    "lng_range = (-180, 180)"
   ]
  },
  {
   "cell_type": "markdown",
   "metadata": {},
   "source": [
    "## Generate Cities List"
   ]
  },
  {
   "cell_type": "code",
   "execution_count": 89,
   "metadata": {},
   "outputs": [
    {
     "name": "stdout",
     "output_type": "stream",
     "text": [
      "['tulun,ru',\n",
      " 'codrington,ag',\n",
      " 'tiksi,ru',\n",
      " 'khatanga,ru',\n",
      " 'east+london,za',\n",
      " 'luderitz,na',\n",
      " 'maceio,br',\n",
      " 'tuktoyaktuk,ca',\n",
      " 'port+hedland,au',\n",
      " 'mount+gambier,au',\n",
      " 'thompson,ca',\n",
      " 'bredasdorp,za',\n",
      " 'dikson,ru',\n",
      " 'andevoranto,mg',\n",
      " 'ushuaia,ar']\n"
     ]
    }
   ],
   "source": [
    "# List for holding lat_lngs and cities\n",
    "lat_lngs = []\n",
    "cities = []\n",
    "\n",
    "# Create a set of random lat and lng combinations\n",
    "lats = np.random.uniform(low=-90.000, high=90.000, size=15)\n",
    "lngs = np.random.uniform(low=-180.000, high=180.000, size=15)\n",
    "lat_lngs = zip(lats, lngs)\n",
    "\n",
    "# Identify nearest city for each lat, lng combination\n",
    "for lat_lng in lat_lngs:\n",
    "    cityObj = citipy.nearest_city(lat_lng[0], lat_lng[1])\n",
    "    city = cityObj.city_name\n",
    "    country = cityObj.country_code\n",
    "    city_country = city + ',' + country\n",
    "    city_country = re.sub(r' ', '+', city_country)   # Substitute spaces (global) to create valid URLs\n",
    "    \n",
    "    # If the city is unique, then add it to our cities list\n",
    "    if city_country not in cities:\n",
    "        cities.append(city_country)\n",
    "\n",
    "# Print the city count to confirm sufficient count\n",
    "pprint(cities)"
   ]
  },
  {
   "cell_type": "code",
   "execution_count": null,
   "metadata": {},
   "outputs": [],
   "source": []
  },
  {
   "cell_type": "markdown",
   "metadata": {},
   "source": [
    "## Perform API Calls"
   ]
  },
  {
   "cell_type": "code",
   "execution_count": null,
   "metadata": {},
   "outputs": [],
   "source": []
  },
  {
   "cell_type": "code",
   "execution_count": 99,
   "metadata": {
    "scrolled": false
   },
   "outputs": [
    {
     "name": "stdout",
     "output_type": "stream",
     "text": [
      "tulun,ru,2014927\n",
      "codrington,ag,Not Found\n",
      "tiksi,ru,2015306\n",
      "khatanga,ru,2022572\n",
      "east+london,za,1006984\n",
      "luderitz,na,3355672\n",
      "maceio,br,3395981\n",
      "tuktoyaktuk,ca,6170031\n",
      "port+hedland,au,2063042\n",
      "mount+gambier,au,2156643\n",
      "thompson,ca,6165406\n",
      "bredasdorp,za,1015776\n",
      "dikson,ru,1507390\n",
      "andevoranto,mg,Not Found\n",
      "ushuaia,ar,3833367\n"
     ]
    }
   ],
   "source": [
    "# Initialize empty arrays for weather results\n",
    "found_cities = []\n",
    "lats = []\n",
    "lons = []\n",
    "temps = []\n",
    "humidities = []\n",
    "cloudinesses = []\n",
    "windspeeds = []\n",
    "\n",
    "# OpenWeatherMap API Key\n",
    "api_key = all_api_keys.OpenWeatherMap_key\n",
    "\n",
    "# Starting URL for Weather Map API Call\n",
    "base_url = \"http://api.openweathermap.org/data/2.5/weather?APPID=\" + api_key + '&units=imperial' + \"&q=\"\n",
    "\n",
    "# Loop through the list of cities and perform a request for data on each\n",
    "for city in cities:\n",
    "    url = base_url + city\n",
    "    weather_response = requests.get(url)\n",
    "    weather_json = weather_response.json()\n",
    "    if weather_json['cod'] != '404':\n",
    "        found_cities.append(city)\n",
    "        lats.append(weather_json['coord']['lat'])\n",
    "        lons.append(weather_json['coord']['lon'])\n",
    "        temps.append(weather_json['main']['temp'])\n",
    "        humidities.append(weather_json['main']['humidity'])\n",
    "        cloudinesses.append(weather_json['clouds']['all'])\n",
    "        windspeeds.append(weather_json['wind']['speed'])\n",
    "        #pprint(weather_json)\n",
    "        print(city + ',' + str(weather_json['id']))\n",
    "    else:\n",
    "        print(city + ',' + 'Not Found')"
   ]
  },
  {
   "cell_type": "code",
   "execution_count": null,
   "metadata": {},
   "outputs": [],
   "source": []
  },
  {
   "cell_type": "code",
   "execution_count": 70,
   "metadata": {},
   "outputs": [
    {
     "data": {
      "text/html": [
       "<div>\n",
       "<style scoped>\n",
       "    .dataframe tbody tr th:only-of-type {\n",
       "        vertical-align: middle;\n",
       "    }\n",
       "\n",
       "    .dataframe tbody tr th {\n",
       "        vertical-align: top;\n",
       "    }\n",
       "\n",
       "    .dataframe thead th {\n",
       "        text-align: right;\n",
       "    }\n",
       "</style>\n",
       "<table border=\"1\" class=\"dataframe\">\n",
       "  <thead>\n",
       "    <tr style=\"text-align: right;\">\n",
       "      <th></th>\n",
       "      <th>city</th>\n",
       "      <th>lat</th>\n",
       "      <th>lon</th>\n",
       "      <th>temp</th>\n",
       "      <th>humidity</th>\n",
       "      <th>cloudiness</th>\n",
       "      <th>windspeed</th>\n",
       "    </tr>\n",
       "  </thead>\n",
       "  <tbody>\n",
       "    <tr>\n",
       "      <th>0</th>\n",
       "      <td>acapulco,mx</td>\n",
       "      <td>16.86</td>\n",
       "      <td>-99.88</td>\n",
       "      <td>82.40</td>\n",
       "      <td>83</td>\n",
       "      <td>90</td>\n",
       "      <td>3.36</td>\n",
       "    </tr>\n",
       "    <tr>\n",
       "      <th>1</th>\n",
       "      <td>yenagoa,ng</td>\n",
       "      <td>4.92</td>\n",
       "      <td>6.26</td>\n",
       "      <td>70.40</td>\n",
       "      <td>93</td>\n",
       "      <td>24</td>\n",
       "      <td>3.04</td>\n",
       "    </tr>\n",
       "    <tr>\n",
       "      <th>2</th>\n",
       "      <td>ahipara,nz</td>\n",
       "      <td>-35.17</td>\n",
       "      <td>173.16</td>\n",
       "      <td>53.39</td>\n",
       "      <td>90</td>\n",
       "      <td>56</td>\n",
       "      <td>7.96</td>\n",
       "    </tr>\n",
       "    <tr>\n",
       "      <th>3</th>\n",
       "      <td>carutapera,br</td>\n",
       "      <td>-1.20</td>\n",
       "      <td>-46.02</td>\n",
       "      <td>73.55</td>\n",
       "      <td>100</td>\n",
       "      <td>92</td>\n",
       "      <td>3.38</td>\n",
       "    </tr>\n",
       "    <tr>\n",
       "      <th>4</th>\n",
       "      <td>beringovskiy,ru</td>\n",
       "      <td>63.05</td>\n",
       "      <td>179.32</td>\n",
       "      <td>52.94</td>\n",
       "      <td>92</td>\n",
       "      <td>8</td>\n",
       "      <td>3.94</td>\n",
       "    </tr>\n",
       "  </tbody>\n",
       "</table>\n",
       "</div>"
      ],
      "text/plain": [
       "              city    lat     lon   temp  humidity  cloudiness  windspeed\n",
       "0      acapulco,mx  16.86  -99.88  82.40        83          90       3.36\n",
       "1       yenagoa,ng   4.92    6.26  70.40        93          24       3.04\n",
       "2       ahipara,nz -35.17  173.16  53.39        90          56       7.96\n",
       "3    carutapera,br  -1.20  -46.02  73.55       100          92       3.38\n",
       "4  beringovskiy,ru  63.05  179.32  52.94        92           8       3.94"
      ]
     },
     "execution_count": 70,
     "metadata": {},
     "output_type": "execute_result"
    }
   ],
   "source": [
    "# Create a data frame from following arrary sets: cities, lats, temps, humidities, cloudinesses, windSpeeds\n",
    "weather_dict = {\n",
    "    \"city\": found_cities,\n",
    "    \"lat\": lats,\n",
    "    \"lon\": lons,\n",
    "    \"temp\": temps,\n",
    "    \"humidity\": humidities,\n",
    "    \"cloudiness\": cloudinesses,\n",
    "    \"windspeed\": windspeeds\n",
    "}\n",
    "weather_data = pd.DataFrame(weather_dict)\n",
    "weather_data.head()\n",
    "\n"
   ]
  },
  {
   "cell_type": "code",
   "execution_count": 74,
   "metadata": {},
   "outputs": [
    {
     "data": {
      "image/png": "[encoded data removed]",
      "text/plain": [
       "<Figure size 432x288 with 1 Axes>"
      ]
     },
     "metadata": {},
     "output_type": "display_data"
    }
   ],
   "source": [
    "# Build a scatter plot for Temperature (F) vs. Latitude\n",
    "plt.scatter(weather_data['lat'],weather_data['temp'], marker=\"o\")\n",
    "\n",
    "# Incorporate the other graph properties\n",
    "plt.title(\"Temperature in World Cities\")\n",
    "plt.ylabel(\"Temperature (F)\")\n",
    "plt.xlabel(\"Latitude\")\n",
    "plt.grid(True)\n",
    "plt.show()"
   ]
  },
  {
   "cell_type": "code",
   "execution_count": 73,
   "metadata": {},
   "outputs": [],
   "source": []
  },
  {
   "cell_type": "code",
   "execution_count": 76,
   "metadata": {},
   "outputs": [
    {
     "data": {
      "text/plain": [
       "<Figure size 432x288 with 0 Axes>"
      ]
     },
     "metadata": {},
     "output_type": "display_data"
    }
   ],
   "source": [
    "#save the figure\n",
    "plt.savefig(\"TemperatureVsLatitude.png\")"
   ]
  },
  {
   "cell_type": "code",
   "execution_count": null,
   "metadata": {},
   "outputs": [],
   "source": []
  },
  {
   "cell_type": "code",
   "execution_count": 77,
   "metadata": {},
   "outputs": [
    {
     "data": {
      "image/png": "[encoded data removed]",
      "text/plain": [
       "<Figure size 432x288 with 1 Axes>"
      ]
     },
     "metadata": {},
     "output_type": "display_data"
    }
   ],
   "source": [
    "# Build a scatter plot for Humidity (%) vs. Latitude\n",
    "plt.scatter(weather_data['lat'],weather_data['humidity'], marker=\"o\")\n",
    "\n",
    "# Incorporate the other graph properties\n",
    "plt.title(\"Weather in World Cities\")\n",
    "plt.ylabel(\"Humidity (%)\")\n",
    "plt.xlabel(\"Latitude\")\n",
    "plt.grid(True)\n",
    "plt.show()"
   ]
  },
  {
   "cell_type": "code",
   "execution_count": null,
   "metadata": {},
   "outputs": [],
   "source": []
  },
  {
   "cell_type": "code",
   "execution_count": 78,
   "metadata": {},
   "outputs": [
    {
     "data": {
      "text/plain": [
       "<Figure size 432x288 with 0 Axes>"
      ]
     },
     "metadata": {},
     "output_type": "display_data"
    }
   ],
   "source": [
    "#save the figure\n",
    "plt.savefig(\"TemperatureVsLatitude.png\")"
   ]
  },
  {
   "cell_type": "code",
   "execution_count": 79,
   "metadata": {},
   "outputs": [
    {
     "data": {
      "image/png": "[encoded data removed]",
      "text/plain": [
       "<Figure size 432x288 with 1 Axes>"
      ]
     },
     "metadata": {},
     "output_type": "display_data"
    }
   ],
   "source": [
    "# Build a scatter plot for Cloudiness (%) vs. Latitude\n",
    "plt.scatter(weather_data['lat'],weather_data['cloudiness'], marker=\"o\")\n",
    "\n",
    "# Incorporate the other graph properties\n",
    "plt.title(\"Weather in World Cities\")\n",
    "plt.ylabel(\"Cloudiness (%)\")\n",
    "plt.xlabel(\"Latitude\")\n",
    "plt.grid(True)\n",
    "plt.show()"
   ]
  },
  {
   "cell_type": "code",
   "execution_count": null,
   "metadata": {},
   "outputs": [],
   "source": []
  },
  {
   "cell_type": "code",
   "execution_count": 80,
   "metadata": {},
   "outputs": [
    {
     "data": {
      "image/png": "[encoded data removed]",
      "text/plain": [
       "<Figure size 432x288 with 1 Axes>"
      ]
     },
     "metadata": {},
     "output_type": "display_data"
    }
   ],
   "source": [
    "# Build a scatter plot for Cloudiness (%) vs. Latitude\n",
    "plt.scatter(weather_data['lat'],weather_data['cloudiness'], marker=\"o\")\n",
    "\n",
    "# Incorporate the other graph properties\n",
    "plt.title(\"Weather in World Cities\")\n",
    "plt.ylabel(\"Wind Speed (mph)\")\n",
    "plt.xlabel(\"Latitude\")\n",
    "plt.grid(True)\n",
    "\n",
    "plt.show()"
   ]
  },
  {
   "cell_type": "code",
   "execution_count": 81,
   "metadata": {},
   "outputs": [
    {
     "data": {
      "text/plain": [
       "<Figure size 432x288 with 0 Axes>"
      ]
     },
     "metadata": {},
     "output_type": "display_data"
    }
   ],
   "source": [
    "#save the figure\n",
    "plt.savefig(\"WeatherWorldCitisTemperature\")"
   ]
  },
  {
   "cell_type": "code",
   "execution_count": null,
   "metadata": {},
   "outputs": [],
   "source": []
  }
 ],
 "metadata": {
  "anaconda-cloud": {},
  "kernelspec": {
   "display_name": "Python [default]",
   "language": "python",
   "name": "python3"
  },
  "language_info": {
   "codemirror_mode": {
    "name": "ipython",
    "version": 3
   },
   "file_extension": ".py",
   "mimetype": "text/x-python",
   "name": "python",
   "nbconvert_exporter": "python",
   "pygments_lexer": "ipython3",
   "version": "3.6.5"
  }
 },
 "nbformat": 4,
 "nbformat_minor": 1
}
